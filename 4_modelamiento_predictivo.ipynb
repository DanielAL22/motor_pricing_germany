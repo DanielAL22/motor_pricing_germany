{
 "cells": [
  {
   "cell_type": "markdown",
   "id": "20484e89",
   "metadata": {},
   "source": [
    "# Fase 4: Modelamiento predictivo\n",
    "El objetivo de esta etapa es generar un modelo predictivo utilizando técnicas de machine learning que permita dar respuesta a la necesidad planteada de crear un estimador de precios de vehículos de segunda mano\n",
    "\n",
    "Se han llevado a cabo las siguientes tareas:\n",
    "- Creación de subconjuntos de entrenamiento y prueba\n",
    "- Transformación logarítmica del vector objetivo\n",
    "- Estandarización\n",
    "- Modelación predictiva\n",
    "    - Entrenamiento sobre los datos con imputación de valores perdidos \n",
    "    - Entrenamiento sobre los datos con eliminación de valores perdidos\n",
    "    - Generación de predicciones y análisis de métricas\n",
    "    - Análisis de coeficientes / importancias de los modelos entrenados\n",
    "- Serialización del modelo ganador, su escalador y sus columnas de entrenamiento para la puesta en producción"
   ]
  },
  {
   "cell_type": "code",
   "execution_count": 1,
   "id": "654fe8ea",
   "metadata": {},
   "outputs": [],
   "source": [
    "# Importación de librerías\n",
    "import pandas as pd\n",
    "import numpy as np\n",
    "import matplotlib.pyplot as plt\n",
    "import seaborn as sns\n",
    "from sklearn.model_selection import train_test_split\n",
    "from sklearn.preprocessing import StandardScaler\n",
    "\n",
    "from sklearn.linear_model import LinearRegression\n",
    "from sklearn.tree import DecisionTreeRegressor\n",
    "from sklearn.ensemble import RandomForestRegressor\n",
    "from xgboost import XGBRegressor\n",
    "\n",
    "from sklearn.metrics import mean_squared_error\n",
    "from sklearn.metrics import median_absolute_error\n",
    "from sklearn.metrics import r2_score\n",
    "from sklearn.metrics import mean_absolute_percentage_error\n",
    "import pickle\n",
    "\n",
    "\n",
    "\n",
    "import ancillary_funcs as aux\n",
    "\n",
    "import warnings\n",
    "warnings.simplefilter('ignore')"
   ]
  },
  {
   "cell_type": "markdown",
   "id": "fc0010f6",
   "metadata": {},
   "source": [
    "## Importación de los subconjuntos de entrenamiento y prueba"
   ]
  },
  {
   "cell_type": "code",
   "execution_count": 2,
   "id": "44f850c2",
   "metadata": {},
   "outputs": [],
   "source": [
    "# Dataset perteneciente a los datos faltantes imputados\n",
    "df_imp = pd.read_csv('df_imp.csv')"
   ]
  },
  {
   "cell_type": "markdown",
   "id": "8ee02ec7",
   "metadata": {},
   "source": [
    "## Creación de subconjuntos de entrenamiento y prueba\n",
    "\n",
    "- Para la division de muestras del dataset vamos a utilizar el método train_test_split procedente del módulo model_selection de la librería scikit-learn que nos permite la division de los datos en subconjuntos de entrenamiento y prueba. \n",
    "- Preservaremos en los subconjuntos de prueba un 33% de los datos (test_size) y declararemos una semilla pseudoaleatoria que permita replicar la muestra (random_seed).\n",
    "- No vamos a crear un tercer subconjunto hold-out sample puesto que no vamos a entrenar con hiperparámetros"
   ]
  },
  {
   "cell_type": "code",
   "execution_count": 3,
   "id": "713f0628",
   "metadata": {},
   "outputs": [],
   "source": [
    "# Separamos el vector objetivo de la matriz de atributos independientes para el dataset de valores perdidos imputados\n",
    "X_mat_imp = df_imp.drop(columns='price')\n",
    "y_vec_imp = df_imp['price']"
   ]
  },
  {
   "cell_type": "code",
   "execution_count": 4,
   "id": "8d2d70bd",
   "metadata": {},
   "outputs": [],
   "source": [
    "# Separamos la matriz de atributos independientes imp en subconjuntos de entrenamiento y prueba\n",
    "X_train_imp, X_test_imp, y_train_imp, y_test_imp = train_test_split(X_mat_imp, y_vec_imp, test_size=.33, random_state=1312)"
   ]
  },
  {
   "cell_type": "markdown",
   "id": "efd3e984",
   "metadata": {},
   "source": [
    "## Transformación logarítmica del vector objetivo\n",
    "Efectuamos la transformación logarítmica del vector objetivo por las siguientes razones:\n",
    "\n",
    "- Estabiliza la varianza: La transformación logarítmica puede ayudar a reducir la heterocedasticidad (presencia de una varianza no constante en los errores del modelo), lo que mejora el cumplimiento de los supuestos de homogeneidad de varianza en el análisis estadístico.\n",
    "\n",
    "- Aproxima una distribución normal: Si el vector objetivo sigue una distribución sesgada, la transformación logarítmica puede acercar los datos a una distribución más simétrica y normal, lo que facilita el análisis estadístico.\n",
    "\n",
    "- Mitiga el impacto de valores atípicos: La transformación logarítmica puede disminuir la influencia de valores atípicos o extremos, lo que ayuda a obtener estimaciones más robustas y reducir su impacto en el análisis.\n",
    "\n",
    "- Mejora la linealidad: En modelos lineales y no lineales, la transformación logarítmica puede ayudar a lograr una relación más lineal entre las variables independientes y el vector objetivo, mejorando el ajuste y la interpretación del modelo."
   ]
  },
  {
   "cell_type": "code",
   "execution_count": 5,
   "id": "ac33000a",
   "metadata": {},
   "outputs": [],
   "source": [
    "# Transformación logarítmica\n",
    "y_train_imp_log = np.log(y_train_imp)\n",
    "y_test_imp_log = np.log(y_test_imp)"
   ]
  },
  {
   "cell_type": "code",
   "execution_count": 6,
   "id": "cc191044",
   "metadata": {},
   "outputs": [],
   "source": [
    "# Comprobamos como es la distribución del vector objetivo después de la transformación\n",
    "y_vec_imp_log = pd.concat([y_test_imp_log, y_train_imp_log], axis=0)"
   ]
  },
  {
   "cell_type": "code",
   "execution_count": 7,
   "id": "e6b97398",
   "metadata": {},
   "outputs": [
    {
     "data": {
      "image/png": "[encoded data removed]",
      "text/plain": [
       "<Figure size 432x288 with 1 Axes>"
      ]
     },
     "metadata": {
      "needs_background": "light"
     },
     "output_type": "display_data"
    }
   ],
   "source": [
    "sns.distplot(y_vec_imp_log);"
   ]
  },
  {
   "cell_type": "markdown",
   "id": "1a06735b",
   "metadata": {},
   "source": [
    "- Se observa como la distribución del vector objetivo pasó de una fuerte asimetría y sesgo a la derecha a una distribución más aproximada a la normal con un ligero sesgo a la izquierda.\n",
    "- Debemos tener en cuenta que esta transformación tendrá que ser revertida a la hora de generar las predicciónes y analizar las métricas"
   ]
  },
  {
   "cell_type": "markdown",
   "id": "ad57c8b3",
   "metadata": {},
   "source": [
    "## Estandarización\n",
    "- La diferencia en la escala de valores de las variables continuas (año de registro, potencia y kilómetros) nos conduce a estandarizarlas.\n",
    "\n",
    "- Vamos a estandarizar los atributos  excluyendo de la operación las variables binarias. \n",
    "- Llevamos a cabo el entrenamiento (.fit) y transformación (.transform) en dos pasos diferenciados y solo sobre los subconjuntos de entrenamiento y no en todo el dataframe para evitar la fuga de datos o data leakage, es decir, el uso de información del subconjunto de prueba en el entrenamiento del modelo."
   ]
  },
  {
   "cell_type": "code",
   "execution_count": 8,
   "id": "3853334b",
   "metadata": {},
   "outputs": [],
   "source": [
    "X_train_std_imp, X_test_std_imp, scaler_imp = aux.estandarizacion(['yearOfRegistration', 'powerPS', 'kilometer'],\n",
    "                                                              X_train_imp,\n",
    "                                                              X_test_imp)"
   ]
  },
  {
   "cell_type": "markdown",
   "id": "f00d5036",
   "metadata": {},
   "source": [
    "## Modelación predictiva (primera iteración)\n",
    "\n",
    "### Modelos predictivos utilizados\n",
    "**LinearRegression**:\n",
    "- Funcionamiento: Modelo de regresión lineal que encuentra la mejor línea recta que se ajusta a los datos minimizando la suma de los errores cuadrados.\n",
    "- Ventajas: Fácil interpretación, rápido entrenamiento y adecuado para problemas con relaciones lineales entre variables.\n",
    "- Limitaciones: Limitado para problemas con relaciones no lineales y puede ser sensible a valores atípicos.\n",
    "\n",
    "**DecisionTreeRegressor**:\n",
    "\n",
    "- Funcionamiento: Modelo de árbol de decisión que divide el espacio de características en subconjuntos más pequeños mediante reglas de decisión para hacer predicciones.\n",
    "- Ventajas: Capacidad para aprender relaciones no lineales y adaptarse a diferentes escalas de características.\n",
    "- Limitaciones: Propenso al sobreajuste y puede ser difícil de interpretar en árboles grandes y profundos.\n",
    "\n",
    "**RandomForestRegressor**:\n",
    "\n",
    "- Funcionamiento: Conjunto de árboles de decisión (Random Forest) que promedia las predicciones de varios árboles para mejorar la precisión y reducir el sobreajuste.\n",
    "- Ventajas: Mejora la generalización en comparación con un solo árbol, maneja características no lineales y es menos propenso al sobreajuste.\n",
    "- Limitaciones: Menos interpretable que un árbol de decisión único y puede requerir más tiempo de entrenamiento que un solo árbol.\n",
    "\n",
    "**XGBRegressor**:\n",
    "\n",
    "- Funcionamiento: Implementación de Extreme Gradient Boosting (XGBoost) para regresión, que utiliza un conjunto de árboles de decisión mejorados mediante técnicas de regularización.\n",
    "- Ventajas: Alta precisión y eficiencia, manejo de características no lineales y características de importancia incorporadas.\n",
    "- Limitaciones: Configuración de hiperparámetros crítica para obtener el mejor rendimiento."
   ]
  },
  {
   "cell_type": "code",
   "execution_count": 9,
   "id": "f4e02f3a",
   "metadata": {},
   "outputs": [],
   "source": [
    "#pip install xgboost"
   ]
  },
  {
   "cell_type": "code",
   "execution_count": 10,
   "id": "1d0eadbd",
   "metadata": {},
   "outputs": [],
   "source": [
    "# Definimos una semilla pseudoaleatoria\n",
    "seed=1234\n",
    "\n",
    "# Instanciamos los modelos\n",
    "model_lr = LinearRegression()\n",
    "model_DT = DecisionTreeRegressor(random_state=seed)\n",
    "model_RF = RandomForestRegressor(random_state=seed)\n",
    "model_XGB = XGBRegressor()"
   ]
  },
  {
   "cell_type": "code",
   "execution_count": 11,
   "id": "7c10f5b7",
   "metadata": {},
   "outputs": [],
   "source": [
    "# Establecemos una lista iterable con los modelos instanciados\n",
    "lista_modelos_vanilla = [model_lr, \n",
    "                         model_DT, \n",
    "                         model_RF,\n",
    "                         model_XGB,\n",
    "                        ]"
   ]
  },
  {
   "cell_type": "markdown",
   "id": "d89827ca",
   "metadata": {},
   "source": [
    "### Entrenamiento sobre los datos con imputación de valores perdidos\n",
    "- Se van a comentar las líneas del entrenamiento para evitar volver a reentrenar cada vez que se ejecute el script."
   ]
  },
  {
   "cell_type": "code",
   "execution_count": 12,
   "id": "eea6ce96",
   "metadata": {},
   "outputs": [],
   "source": [
    "#%%time\n",
    "#for model in lista_modelos_vanilla:\n",
    "#    print(f'Modelo: {model}')\n",
    "#    tmp_modelo_entrenado = aux.entrenamiento_modelo_vanilla(model, X_train_std_imp, y_train_imp_log)\n",
    "#    aux.serializar_modelos(tmp_modelo_entrenado, 'it1_imp')\n",
    "#    print('-'*120)\n",
    "#    print(' ')"
   ]
  },
  {
   "cell_type": "markdown",
   "id": "d40a1db1",
   "metadata": {},
   "source": [
    "### Generación de predicciones y análisis de métricas\n",
    "\n",
    "#### Definición de métricas\n",
    "Utilizaremos las siguientes métricas para medir el desempeño de nuestros modelos:\n",
    "\n",
    "**R2**\n",
    "- El coeficiente de determinación, también conocido como R2 (R-cuadrado), es una métrica que se utiliza para evaluar la calidad de un modelo de regresión. Proporciona una medida de qué tan bien se ajustan los valores pronosticados por el modelo a los valores reales de la variable objetivo. El R2 varía entre 0 y 1, donde 1 indica un ajuste perfecto del modelo y 0 indica que el modelo no ofrece una mejora respecto a la predicción por la media.\n",
    "\n",
    "- El R2 representa la proporción de varianza explicada por el modelo en relación con la varianza total de los datos. Por lo tanto, una interpretación del R2 podría ser que un valor del 0.8 significa que el modelo puede explicar el 80% de la variabilidad de la variable objetivo mientras que el otro 20% se debe a factores no considerados por el modelo.\n",
    "\n",
    "**RMSE**\n",
    "- El RMSE (Root Mean Squared Error) es una métrica utilizada para medir la precisión promedio de un modelo de regresión al predecir valores continuos. Se calcula como la raíz cuadrada del error cuadrático medio (MSE), lo que significa que penaliza los errores más grandes de manera más significativa que los errores más pequeños. El RMSE tiene la misma unidad que la variable objetivo y proporciona una medida de dispersión promedio entre las predicciones y los valores reales.\n",
    "- Representa la desviación estándar promedio de las predicciones del modelo con respecto a los valores reales. Cuanto más bajo sea el valor del RMSE, mejor será la precisión del modelo, ya que indicará una menor dispersión entre las predicciones y los valores reales. Un RMSE de 5.5 por ejemplo, indica que las predicciones del modelo difieren de los valores reales en aproximadamente 5.5 unidades. \n",
    "- Se debe tener en cuenta que solo proporciona información sobre la precisión promedio del modelo y no brinda información sobre la dirección o el sesgo de los errores. Además, el RMSE puede ser sensible a los valores atípicos en los datos, ya que penaliza los errores cuadráticos.\n",
    "\n",
    "**MAE**\n",
    "- El MAE (Mean Absolute Error) es una métrica utilizada para medir la magnitud promedio de los errores en un modelo de regresión. Se calcula como la media de las diferencias absolutas entre las predicciones del modelo y los valores reales. El MAE es una medida de la precisión promedio del modelo y tiene la misma unidad que la variable objetivo. Tiene la ventaja de ser simple y fácil de interpretar. \n",
    "- Un MAE de 3, por ejemplo; quiere decir que, en promedio, las predicciones del modelo difieren de los valores reales en aproximadamente 3 unidades. Cuanto más cercano a cero sea el MAE, mejor será la precisión del modelo y más cercanas serán las predicciones a los valores reales.\n",
    "- El RMSE es más sensible a los errores grandes, mientras que el MAE trata todos los errores por igual. \n",
    "\n",
    "**MAPE**\n",
    "- El MAPE (Mean Absolute Percentage Error) es una métrica utilizada para evaluar el rendimiento de un modelo de regresión en términos de porcentaje de error relativo promedio. Se calcula como el promedio de los valores absolutos de los porcentajes de error entre las predicciones del modelo y los valores reales, dividido por el valor real y multiplicado por 100.\n",
    "- Representa el error promedio como un porcentaje del valor real. Cuanto menor sea el valor del MAPE, mejor será la precisión del modelo, ya que indicará un menor porcentaje de error relativo promedio.\n",
    "- Se considera útil para capturar la precisión en diferentes partes del rango de valores debido a su naturaleza relativa. A diferencia de otras métricas, el MAPE se expresa como un porcentaje y no en la unidad de medida de la variable objetivo. Esto permite que la métrica sea comparable y comprensible en diferentes escalas y rangos de valores.\n",
    "- Por ejemplo, un MAPE de 5% significa que, en promedio, las predicciones del modelo difieren en un 5% del valor real."
   ]
  },
  {
   "cell_type": "markdown",
   "id": "2a2e914a",
   "metadata": {},
   "source": [
    "#### Métricas para los modelos de los datos con imputación de valores perdidos"
   ]
  },
  {
   "cell_type": "code",
   "execution_count": 13,
   "id": "4d128cd2",
   "metadata": {},
   "outputs": [],
   "source": [
    "df_results_it1_imp_train = pd.DataFrame({'lr': aux.predicciones_metricas('LinearRegression_it1_imp.pkl', X_train_std_imp, y_train_imp_log),\n",
    "                                         'dt': aux.predicciones_metricas('DecisionTreeRegressor_it1_imp.pkl', X_train_std_imp, y_train_imp_log),\n",
    "                                         'rf': aux.predicciones_metricas('RandomForestRegressor_it1_imp.pkl', X_train_std_imp, y_train_imp_log),\n",
    "                                         'xgb': aux.predicciones_metricas('XGBRegressor_it1_imp.pkl', X_train_std_imp, y_train_imp_log)\n",
    "                                 }, index = ['r2', 'rmse', 'mae', 'mape'])"
   ]
  },
  {
   "cell_type": "code",
   "execution_count": 14,
   "id": "34242a2a",
   "metadata": {},
   "outputs": [],
   "source": [
    "df_results_it1_imp_test = pd.DataFrame({'lr': aux.predicciones_metricas('LinearRegression_it1_imp.pkl', X_test_std_imp, y_test_imp_log),\n",
    "                                        'dt': aux.predicciones_metricas('DecisionTreeRegressor_it1_imp.pkl', X_test_std_imp, y_test_imp_log),\n",
    "                                        'rf': aux.predicciones_metricas('RandomForestRegressor_it1_imp.pkl', X_test_std_imp, y_test_imp_log),\n",
    "                                        'xgb': aux.predicciones_metricas('XGBRegressor_it1_imp.pkl', X_test_std_imp, y_test_imp_log)\n",
    "                                 }, index = ['r2', 'rmse', 'mae', 'mape'])"
   ]
  },
  {
   "cell_type": "code",
   "execution_count": 15,
   "id": "4bc494db",
   "metadata": {},
   "outputs": [
    {
     "name": "stdout",
     "output_type": "stream",
     "text": [
      "Modelos entrenados sobre los datos con imputación de valores perdidos\n",
      "Rendimiento sobre los datos de entrenamiento\n"
     ]
    },
    {
     "data": {
      "text/html": [
       "<div>\n",
       "<style scoped>\n",
       "    .dataframe tbody tr th:only-of-type {\n",
       "        vertical-align: middle;\n",
       "    }\n",
       "\n",
       "    .dataframe tbody tr th {\n",
       "        vertical-align: top;\n",
       "    }\n",
       "\n",
       "    .dataframe thead th {\n",
       "        text-align: right;\n",
       "    }\n",
       "</style>\n",
       "<table border=\"1\" class=\"dataframe\">\n",
       "  <thead>\n",
       "    <tr style=\"text-align: right;\">\n",
       "      <th></th>\n",
       "      <th>lr</th>\n",
       "      <th>dt</th>\n",
       "      <th>rf</th>\n",
       "      <th>xgb</th>\n",
       "    </tr>\n",
       "  </thead>\n",
       "  <tbody>\n",
       "    <tr>\n",
       "      <th>r2</th>\n",
       "      <td>0.81</td>\n",
       "      <td>0.98</td>\n",
       "      <td>0.97</td>\n",
       "      <td>0.90</td>\n",
       "    </tr>\n",
       "    <tr>\n",
       "      <th>rmse</th>\n",
       "      <td>2340.79</td>\n",
       "      <td>812.58</td>\n",
       "      <td>981.37</td>\n",
       "      <td>1687.47</td>\n",
       "    </tr>\n",
       "    <tr>\n",
       "      <th>mae</th>\n",
       "      <td>717.05</td>\n",
       "      <td>19.82</td>\n",
       "      <td>301.12</td>\n",
       "      <td>596.05</td>\n",
       "    </tr>\n",
       "    <tr>\n",
       "      <th>mape</th>\n",
       "      <td>0.37</td>\n",
       "      <td>0.12</td>\n",
       "      <td>0.16</td>\n",
       "      <td>0.30</td>\n",
       "    </tr>\n",
       "  </tbody>\n",
       "</table>\n",
       "</div>"
      ],
      "text/plain": [
       "           lr      dt      rf      xgb\n",
       "r2       0.81    0.98    0.97     0.90\n",
       "rmse  2340.79  812.58  981.37  1687.47\n",
       "mae    717.05   19.82  301.12   596.05\n",
       "mape     0.37    0.12    0.16     0.30"
      ]
     },
     "execution_count": 15,
     "metadata": {},
     "output_type": "execute_result"
    }
   ],
   "source": [
    "print('Modelos entrenados sobre los datos con imputación de valores perdidos')\n",
    "print('Rendimiento sobre los datos de entrenamiento')\n",
    "df_results_it1_imp_train"
   ]
  },
  {
   "cell_type": "markdown",
   "id": "c4dd8b54",
   "metadata": {},
   "source": [
    "- Los R2 obtenidos sobre los datos de entrenamiento son elevados para todos los modelos, excesivamente para los modelos Decision TreeRegressor, RandomForest y quizá también XGBRegressor. Esto indicaría que estos últimos modelos aprendieron los datos 'de memoria', al ajustarse demasiado bien a los datos de entrenamiento.\n",
    "- El hecho de que los RMSE sean más elevados que los MAE puede deberse a como penaliza la primera métrica los errores grandes. El RMSE más elevado en el modelo de regresión lineal tiene que ver a la mayor sensibilidad de este modelo hacia los outliers.pesar de todoLos RMSE son más elevados para el caso del modelo de regresión lineal. Esto puede deberse a la forma en que se calcula esta métrica y la mayor penalización los errores grandes-\n",
    "- Los MAPE tan bajos obtenidos (todos inferiores al 0.5%) podrían indicar que el modelo es preciso en términos relativos, pero aún existe una discrepancia considerable entre las predicciones y los valores reales en términos absolutos. Esto podría deberse a la amplia escala en la que se mueve nuestro vector objetivo de precios."
   ]
  },
  {
   "cell_type": "code",
   "execution_count": 16,
   "id": "f8cb3add",
   "metadata": {},
   "outputs": [
    {
     "name": "stdout",
     "output_type": "stream",
     "text": [
      "Modelos entrenados sobre los datos con imputación de valores perdidos\n",
      "Rendimiento sobre los datos de prueba\n"
     ]
    },
    {
     "data": {
      "text/html": [
       "<div>\n",
       "<style scoped>\n",
       "    .dataframe tbody tr th:only-of-type {\n",
       "        vertical-align: middle;\n",
       "    }\n",
       "\n",
       "    .dataframe tbody tr th {\n",
       "        vertical-align: top;\n",
       "    }\n",
       "\n",
       "    .dataframe thead th {\n",
       "        text-align: right;\n",
       "    }\n",
       "</style>\n",
       "<table border=\"1\" class=\"dataframe\">\n",
       "  <thead>\n",
       "    <tr style=\"text-align: right;\">\n",
       "      <th></th>\n",
       "      <th>lr</th>\n",
       "      <th>dt</th>\n",
       "      <th>rf</th>\n",
       "      <th>xgb</th>\n",
       "    </tr>\n",
       "  </thead>\n",
       "  <tbody>\n",
       "    <tr>\n",
       "      <th>r2</th>\n",
       "      <td>0.80</td>\n",
       "      <td>0.85</td>\n",
       "      <td>0.90</td>\n",
       "      <td>0.89</td>\n",
       "    </tr>\n",
       "    <tr>\n",
       "      <th>rmse</th>\n",
       "      <td>2382.87</td>\n",
       "      <td>2065.64</td>\n",
       "      <td>1729.41</td>\n",
       "      <td>1756.48</td>\n",
       "    </tr>\n",
       "    <tr>\n",
       "      <th>mae</th>\n",
       "      <td>722.09</td>\n",
       "      <td>616.51</td>\n",
       "      <td>576.29</td>\n",
       "      <td>614.47</td>\n",
       "    </tr>\n",
       "    <tr>\n",
       "      <th>mape</th>\n",
       "      <td>0.36</td>\n",
       "      <td>0.36</td>\n",
       "      <td>0.31</td>\n",
       "      <td>0.31</td>\n",
       "    </tr>\n",
       "  </tbody>\n",
       "</table>\n",
       "</div>"
      ],
      "text/plain": [
       "           lr       dt       rf      xgb\n",
       "r2       0.80     0.85     0.90     0.89\n",
       "rmse  2382.87  2065.64  1729.41  1756.48\n",
       "mae    722.09   616.51   576.29   614.47\n",
       "mape     0.36     0.36     0.31     0.31"
      ]
     },
     "execution_count": 16,
     "metadata": {},
     "output_type": "execute_result"
    }
   ],
   "source": [
    "print('Modelos entrenados sobre los datos con imputación de valores perdidos')\n",
    "print('Rendimiento sobre los datos de prueba')\n",
    "df_results_it1_imp_test"
   ]
  },
  {
   "cell_type": "markdown",
   "id": "f2d8da2e",
   "metadata": {},
   "source": [
    "- Métricas muy similares para los modelos de regresión lineal y XGBRegressor. Los modelos se estarían comportando de manera similar tanto en entrenamiento como en prueba. Esto puede deberse a que nuestra data, pese a ser numerosa en cantidad cuenta con registros de características similares que se dan tanto en los subconjuntos de entrenamiento como de prueba. \n",
    "- Los modelos Decision TreeRegressor y RandomForest lograron peores métricas respecto a los datos de entrenamiento pero aun con todo, el modelo Random Forest posee las mejores métricas sobre los datos de prueba\n"
   ]
  },
  {
   "cell_type": "markdown",
   "id": "0d204e8e",
   "metadata": {},
   "source": [
    "#### Conclusiones\n",
    "- R2 son más o menos aceptables para los modelos basados en regresión lineal. Para los modelos basados en árboles de decisión las cifras obtenidas nos hacen sospechar que existe sobreajuste\n",
    "\n",
    "- A pesar del sobreajuste, se obtuvieron resultados adecuados para los datos de prueba, probablemente porque los registros del subconjunto de entrenamiento son muy parecidos a los de prueba. Debemos tener en cuenta que nuestro dataset esta conformado por vehículos vendidos durante un periodo concreto (sobre un mes) en lugar determinado (Alemania).\n",
    "\n",
    "- Se debe tener en cuenta que los MAE y RMSE obtenidos son relativamente altos según la escala de datos en la que nos movamos. Equivocarse en 576 euros (MAE del modelo Random Forest para los datos imputados) no supone lo mismo cuando hablamos de vehículos que en promedio tienen un precio de 2.000 euros que si lo hacemos para los de 20.000. Es por eso que en este caso resulta más orientativa la métrica MAPE, que nos muestra el error en términos relativos.\n",
    "\n",
    "\n"
   ]
  },
  {
   "cell_type": "markdown",
   "id": "7387760d",
   "metadata": {},
   "source": [
    "### Análisis de los coeficientes en el modelo de regresión lineal"
   ]
  },
  {
   "cell_type": "code",
   "execution_count": 22,
   "id": "ccf417ae",
   "metadata": {},
   "outputs": [
    {
     "data": {
      "text/html": [
       "<style type=\"text/css\">\n",
       "#T_9e422_row0_col0 {\n",
       "  background-color: #67000d;\n",
       "  color: #f1f1f1;\n",
       "}\n",
       "#T_9e422_row1_col0 {\n",
       "  background-color: #b01217;\n",
       "  color: #f1f1f1;\n",
       "}\n",
       "#T_9e422_row2_col0 {\n",
       "  background-color: #b31218;\n",
       "  color: #f1f1f1;\n",
       "}\n",
       "#T_9e422_row3_col0 {\n",
       "  background-color: #b71319;\n",
       "  color: #f1f1f1;\n",
       "}\n",
       "#T_9e422_row4_col0 {\n",
       "  background-color: #bc141a;\n",
       "  color: #f1f1f1;\n",
       "}\n",
       "#T_9e422_row5_col0 {\n",
       "  background-color: #be151a;\n",
       "  color: #f1f1f1;\n",
       "}\n",
       "#T_9e422_row6_col0 {\n",
       "  background-color: #c4161c;\n",
       "  color: #f1f1f1;\n",
       "}\n",
       "#T_9e422_row7_col0 {\n",
       "  background-color: #cb181d;\n",
       "  color: #f1f1f1;\n",
       "}\n",
       "#T_9e422_row8_col0 {\n",
       "  background-color: #cc191e;\n",
       "  color: #f1f1f1;\n",
       "}\n",
       "#T_9e422_row9_col0 {\n",
       "  background-color: #dc2924;\n",
       "  color: #f1f1f1;\n",
       "}\n",
       "#T_9e422_row10_col0 {\n",
       "  background-color: #dd2a25;\n",
       "  color: #f1f1f1;\n",
       "}\n",
       "#T_9e422_row11_col0, #T_9e422_row12_col0 {\n",
       "  background-color: #e32f27;\n",
       "  color: #f1f1f1;\n",
       "}\n",
       "#T_9e422_row13_col0 {\n",
       "  background-color: #e63328;\n",
       "  color: #f1f1f1;\n",
       "}\n",
       "#T_9e422_row14_col0 {\n",
       "  background-color: #e93529;\n",
       "  color: #f1f1f1;\n",
       "}\n",
       "#T_9e422_row15_col0 {\n",
       "  background-color: #eb372a;\n",
       "  color: #f1f1f1;\n",
       "}\n",
       "#T_9e422_row16_col0 {\n",
       "  background-color: #ee3a2c;\n",
       "  color: #f1f1f1;\n",
       "}\n",
       "#T_9e422_row17_col0 {\n",
       "  background-color: #f44f39;\n",
       "  color: #f1f1f1;\n",
       "}\n",
       "#T_9e422_row18_col0 {\n",
       "  background-color: #f4503a;\n",
       "  color: #f1f1f1;\n",
       "}\n",
       "#T_9e422_row19_col0 {\n",
       "  background-color: #f5523a;\n",
       "  color: #f1f1f1;\n",
       "}\n",
       "#T_9e422_row20_col0 {\n",
       "  background-color: #f5533b;\n",
       "  color: #f1f1f1;\n",
       "}\n",
       "#T_9e422_row21_col0 {\n",
       "  background-color: #f6553c;\n",
       "  color: #f1f1f1;\n",
       "}\n",
       "#T_9e422_row22_col0, #T_9e422_row23_col0 {\n",
       "  background-color: #f7593f;\n",
       "  color: #f1f1f1;\n",
       "}\n",
       "#T_9e422_row24_col0 {\n",
       "  background-color: #f75b40;\n",
       "  color: #f1f1f1;\n",
       "}\n",
       "#T_9e422_row25_col0, #T_9e422_row26_col0, #T_9e422_row27_col0 {\n",
       "  background-color: #f75c41;\n",
       "  color: #f1f1f1;\n",
       "}\n",
       "#T_9e422_row28_col0 {\n",
       "  background-color: #f85d42;\n",
       "  color: #f1f1f1;\n",
       "}\n",
       "#T_9e422_row29_col0 {\n",
       "  background-color: #f85f43;\n",
       "  color: #f1f1f1;\n",
       "}\n",
       "#T_9e422_row30_col0, #T_9e422_row31_col0 {\n",
       "  background-color: #f96044;\n",
       "  color: #f1f1f1;\n",
       "}\n",
       "#T_9e422_row32_col0 {\n",
       "  background-color: #f96245;\n",
       "  color: #f1f1f1;\n",
       "}\n",
       "#T_9e422_row33_col0 {\n",
       "  background-color: #fa6547;\n",
       "  color: #f1f1f1;\n",
       "}\n",
       "#T_9e422_row34_col0, #T_9e422_row35_col0 {\n",
       "  background-color: #fa6648;\n",
       "  color: #f1f1f1;\n",
       "}\n",
       "#T_9e422_row36_col0 {\n",
       "  background-color: #fa6849;\n",
       "  color: #f1f1f1;\n",
       "}\n",
       "#T_9e422_row37_col0 {\n",
       "  background-color: #fb6b4b;\n",
       "  color: #f1f1f1;\n",
       "}\n",
       "#T_9e422_row38_col0 {\n",
       "  background-color: #fb6e4e;\n",
       "  color: #f1f1f1;\n",
       "}\n",
       "#T_9e422_row39_col0 {\n",
       "  background-color: #fb7050;\n",
       "  color: #f1f1f1;\n",
       "}\n",
       "#T_9e422_row40_col0 {\n",
       "  background-color: #fb7656;\n",
       "  color: #f1f1f1;\n",
       "}\n",
       "#T_9e422_row41_col0, #T_9e422_row42_col0 {\n",
       "  background-color: #fc8060;\n",
       "  color: #f1f1f1;\n",
       "}\n",
       "#T_9e422_row43_col0 {\n",
       "  background-color: #fc8565;\n",
       "  color: #f1f1f1;\n",
       "}\n",
       "#T_9e422_row44_col0 {\n",
       "  background-color: #fc8666;\n",
       "  color: #f1f1f1;\n",
       "}\n",
       "#T_9e422_row45_col0 {\n",
       "  background-color: #fc8b6b;\n",
       "  color: #f1f1f1;\n",
       "}\n",
       "#T_9e422_row46_col0, #T_9e422_row47_col0, #T_9e422_row48_col0 {\n",
       "  background-color: #fc8f6f;\n",
       "  color: #000000;\n",
       "}\n",
       "#T_9e422_row49_col0 {\n",
       "  background-color: #fc9070;\n",
       "  color: #000000;\n",
       "}\n",
       "#T_9e422_row50_col0, #T_9e422_row51_col0 {\n",
       "  background-color: #fc9474;\n",
       "  color: #000000;\n",
       "}\n",
       "#T_9e422_row52_col0 {\n",
       "  background-color: #fc9777;\n",
       "  color: #000000;\n",
       "}\n",
       "#T_9e422_row53_col0 {\n",
       "  background-color: #fc997a;\n",
       "  color: #000000;\n",
       "}\n",
       "#T_9e422_row54_col0 {\n",
       "  background-color: #fca285;\n",
       "  color: #000000;\n",
       "}\n",
       "#T_9e422_row55_col0, #T_9e422_row56_col0 {\n",
       "  background-color: #fca486;\n",
       "  color: #000000;\n",
       "}\n",
       "#T_9e422_row57_col0 {\n",
       "  background-color: #fca78b;\n",
       "  color: #000000;\n",
       "}\n",
       "#T_9e422_row58_col0, #T_9e422_row59_col0 {\n",
       "  background-color: #fcaa8d;\n",
       "  color: #000000;\n",
       "}\n",
       "#T_9e422_row60_col0 {\n",
       "  background-color: #fcb296;\n",
       "  color: #000000;\n",
       "}\n",
       "#T_9e422_row61_col0 {\n",
       "  background-color: #fcb499;\n",
       "  color: #000000;\n",
       "}\n",
       "#T_9e422_row62_col0 {\n",
       "  background-color: #fdcbb6;\n",
       "  color: #000000;\n",
       "}\n",
       "#T_9e422_row63_col0 {\n",
       "  background-color: #fdd5c4;\n",
       "  color: #000000;\n",
       "}\n",
       "#T_9e422_row64_col0 {\n",
       "  background-color: #fff5f0;\n",
       "  color: #000000;\n",
       "}\n",
       "</style>\n",
       "<table id=\"T_9e422\">\n",
       "  <thead>\n",
       "    <tr>\n",
       "      <th class=\"blank level0\" >&nbsp;</th>\n",
       "      <th id=\"T_9e422_level0_col0\" class=\"col_heading level0 col0\" >lr</th>\n",
       "    </tr>\n",
       "  </thead>\n",
       "  <tbody>\n",
       "    <tr>\n",
       "      <th id=\"T_9e422_level0_row0\" class=\"row_heading level0 row0\" >yearOfRegistration</th>\n",
       "      <td id=\"T_9e422_row0_col0\" class=\"data row0 col0\" >0.628266</td>\n",
       "    </tr>\n",
       "    <tr>\n",
       "      <th id=\"T_9e422_level0_row1\" class=\"row_heading level0 row1\" >brand_mini</th>\n",
       "      <td id=\"T_9e422_row1_col0\" class=\"data row1 col0\" >0.412343</td>\n",
       "    </tr>\n",
       "    <tr>\n",
       "      <th id=\"T_9e422_level0_row2\" class=\"row_heading level0 row2\" >brand_land_rover</th>\n",
       "      <td id=\"T_9e422_row2_col0\" class=\"data row2 col0\" >0.395812</td>\n",
       "    </tr>\n",
       "    <tr>\n",
       "      <th id=\"T_9e422_level0_row3\" class=\"row_heading level0 row3\" >brand_audi</th>\n",
       "      <td id=\"T_9e422_row3_col0\" class=\"data row3 col0\" >0.376469</td>\n",
       "    </tr>\n",
       "    <tr>\n",
       "      <th id=\"T_9e422_level0_row4\" class=\"row_heading level0 row4\" >brand_bmw</th>\n",
       "      <td id=\"T_9e422_row4_col0\" class=\"data row4 col0\" >0.358034</td>\n",
       "    </tr>\n",
       "    <tr>\n",
       "      <th id=\"T_9e422_level0_row5\" class=\"row_heading level0 row5\" >brand_lexus</th>\n",
       "      <td id=\"T_9e422_row5_col0\" class=\"data row5 col0\" >0.347552</td>\n",
       "    </tr>\n",
       "    <tr>\n",
       "      <th id=\"T_9e422_level0_row6\" class=\"row_heading level0 row6\" >brand_mercedes_benz</th>\n",
       "      <td id=\"T_9e422_row6_col0\" class=\"data row6 col0\" >0.320099</td>\n",
       "    </tr>\n",
       "    <tr>\n",
       "      <th id=\"T_9e422_level0_row7\" class=\"row_heading level0 row7\" >powerPS</th>\n",
       "      <td id=\"T_9e422_row7_col0\" class=\"data row7 col0\" >0.289838</td>\n",
       "    </tr>\n",
       "    <tr>\n",
       "      <th id=\"T_9e422_level0_row8\" class=\"row_heading level0 row8\" >brand_volkswagen</th>\n",
       "      <td id=\"T_9e422_row8_col0\" class=\"data row8 col0\" >0.282446</td>\n",
       "    </tr>\n",
       "    <tr>\n",
       "      <th id=\"T_9e422_level0_row9\" class=\"row_heading level0 row9\" >brand_jaguar</th>\n",
       "      <td id=\"T_9e422_row9_col0\" class=\"data row9 col0\" >0.211378</td>\n",
       "    </tr>\n",
       "    <tr>\n",
       "      <th id=\"T_9e422_level0_row10\" class=\"row_heading level0 row10\" >brand_jeep</th>\n",
       "      <td id=\"T_9e422_row10_col0\" class=\"data row10 col0\" >0.204819</td>\n",
       "    </tr>\n",
       "    <tr>\n",
       "      <th id=\"T_9e422_level0_row11\" class=\"row_heading level0 row11\" >brand_toyota</th>\n",
       "      <td id=\"T_9e422_row11_col0\" class=\"data row11 col0\" >0.182077</td>\n",
       "    </tr>\n",
       "    <tr>\n",
       "      <th id=\"T_9e422_level0_row12\" class=\"row_heading level0 row12\" >vehicleType_cabrio</th>\n",
       "      <td id=\"T_9e422_row12_col0\" class=\"data row12 col0\" >0.179739</td>\n",
       "    </tr>\n",
       "    <tr>\n",
       "      <th id=\"T_9e422_level0_row13\" class=\"row_heading level0 row13\" >brand_skoda</th>\n",
       "      <td id=\"T_9e422_row13_col0\" class=\"data row13 col0\" >0.165851</td>\n",
       "    </tr>\n",
       "    <tr>\n",
       "      <th id=\"T_9e422_level0_row14\" class=\"row_heading level0 row14\" >brand_honda</th>\n",
       "      <td id=\"T_9e422_row14_col0\" class=\"data row14 col0\" >0.154296</td>\n",
       "    </tr>\n",
       "    <tr>\n",
       "      <th id=\"T_9e422_level0_row15\" class=\"row_heading level0 row15\" >brand_volvo</th>\n",
       "      <td id=\"T_9e422_row15_col0\" class=\"data row15 col0\" >0.140318</td>\n",
       "    </tr>\n",
       "    <tr>\n",
       "      <th id=\"T_9e422_level0_row16\" class=\"row_heading level0 row16\" >vehicleType_suv</th>\n",
       "      <td id=\"T_9e422_row16_col0\" class=\"data row16 col0\" >0.128857</td>\n",
       "    </tr>\n",
       "    <tr>\n",
       "      <th id=\"T_9e422_level0_row17\" class=\"row_heading level0 row17\" >brand_dodge</th>\n",
       "      <td id=\"T_9e422_row17_col0\" class=\"data row17 col0\" >0.052209</td>\n",
       "    </tr>\n",
       "    <tr>\n",
       "      <th id=\"T_9e422_level0_row18\" class=\"row_heading level0 row18\" >brand_subaru</th>\n",
       "      <td id=\"T_9e422_row18_col0\" class=\"data row18 col0\" >0.047927</td>\n",
       "    </tr>\n",
       "    <tr>\n",
       "      <th id=\"T_9e422_level0_row19\" class=\"row_heading level0 row19\" >brand_smart</th>\n",
       "      <td id=\"T_9e422_row19_col0\" class=\"data row19 col0\" >0.045706</td>\n",
       "    </tr>\n",
       "    <tr>\n",
       "      <th id=\"T_9e422_level0_row20\" class=\"row_heading level0 row20\" >postalZone_7.0</th>\n",
       "      <td id=\"T_9e422_row20_col0\" class=\"data row20 col0\" >0.036880</td>\n",
       "    </tr>\n",
       "    <tr>\n",
       "      <th id=\"T_9e422_level0_row21\" class=\"row_heading level0 row21\" >brand_seat</th>\n",
       "      <td id=\"T_9e422_row21_col0\" class=\"data row21 col0\" >0.033849</td>\n",
       "    </tr>\n",
       "    <tr>\n",
       "      <th id=\"T_9e422_level0_row22\" class=\"row_heading level0 row22\" >brand_iveco</th>\n",
       "      <td id=\"T_9e422_row22_col0\" class=\"data row22 col0\" >0.017171</td>\n",
       "    </tr>\n",
       "    <tr>\n",
       "      <th id=\"T_9e422_level0_row23\" class=\"row_heading level0 row23\" >postalZone_4.0</th>\n",
       "      <td id=\"T_9e422_row23_col0\" class=\"data row23 col0\" >0.015125</td>\n",
       "    </tr>\n",
       "    <tr>\n",
       "      <th id=\"T_9e422_level0_row24\" class=\"row_heading level0 row24\" >postalZone_2.0</th>\n",
       "      <td id=\"T_9e422_row24_col0\" class=\"data row24 col0\" >0.010280</td>\n",
       "    </tr>\n",
       "    <tr>\n",
       "      <th id=\"T_9e422_level0_row25\" class=\"row_heading level0 row25\" >postalZone_8.0</th>\n",
       "      <td id=\"T_9e422_row25_col0\" class=\"data row25 col0\" >0.007502</td>\n",
       "    </tr>\n",
       "    <tr>\n",
       "      <th id=\"T_9e422_level0_row26\" class=\"row_heading level0 row26\" >postalZone_5.0</th>\n",
       "      <td id=\"T_9e422_row26_col0\" class=\"data row26 col0\" >0.005846</td>\n",
       "    </tr>\n",
       "    <tr>\n",
       "      <th id=\"T_9e422_level0_row27\" class=\"row_heading level0 row27\" >postalZone_6.0</th>\n",
       "      <td id=\"T_9e422_row27_col0\" class=\"data row27 col0\" >0.004649</td>\n",
       "    </tr>\n",
       "    <tr>\n",
       "      <th id=\"T_9e422_level0_row28\" class=\"row_heading level0 row28\" >postalZone_3.0</th>\n",
       "      <td id=\"T_9e422_row28_col0\" class=\"data row28 col0\" >0.001983</td>\n",
       "    </tr>\n",
       "    <tr>\n",
       "      <th id=\"T_9e422_level0_row29\" class=\"row_heading level0 row29\" >postalZone_9.0</th>\n",
       "      <td id=\"T_9e422_row29_col0\" class=\"data row29 col0\" >-0.005438</td>\n",
       "    </tr>\n",
       "    <tr>\n",
       "      <th id=\"T_9e422_level0_row30\" class=\"row_heading level0 row30\" >postalZone_1.0</th>\n",
       "      <td id=\"T_9e422_row30_col0\" class=\"data row30 col0\" >-0.007618</td>\n",
       "    </tr>\n",
       "    <tr>\n",
       "      <th id=\"T_9e422_level0_row31\" class=\"row_heading level0 row31\" >brand_isuzu</th>\n",
       "      <td id=\"T_9e422_row31_col0\" class=\"data row31 col0\" >-0.007817</td>\n",
       "    </tr>\n",
       "    <tr>\n",
       "      <th id=\"T_9e422_level0_row32\" class=\"row_heading level0 row32\" >brand_saab</th>\n",
       "      <td id=\"T_9e422_row32_col0\" class=\"data row32 col0\" >-0.016967</td>\n",
       "    </tr>\n",
       "    <tr>\n",
       "      <th id=\"T_9e422_level0_row33\" class=\"row_heading level0 row33\" >fuelType_diesel</th>\n",
       "      <td id=\"T_9e422_row33_col0\" class=\"data row33 col0\" >-0.027219</td>\n",
       "    </tr>\n",
       "    <tr>\n",
       "      <th id=\"T_9e422_level0_row34\" class=\"row_heading level0 row34\" >gearbox_manuell</th>\n",
       "      <td id=\"T_9e422_row34_col0\" class=\"data row34 col0\" >-0.027832</td>\n",
       "    </tr>\n",
       "    <tr>\n",
       "      <th id=\"T_9e422_level0_row35\" class=\"row_heading level0 row35\" >brand_mg</th>\n",
       "      <td id=\"T_9e422_row35_col0\" class=\"data row35 col0\" >-0.030067</td>\n",
       "    </tr>\n",
       "    <tr>\n",
       "      <th id=\"T_9e422_level0_row36\" class=\"row_heading level0 row36\" >brand_suzuki</th>\n",
       "      <td id=\"T_9e422_row36_col0\" class=\"data row36 col0\" >-0.037863</td>\n",
       "    </tr>\n",
       "    <tr>\n",
       "      <th id=\"T_9e422_level0_row37\" class=\"row_heading level0 row37\" >brand_mazda</th>\n",
       "      <td id=\"T_9e422_row37_col0\" class=\"data row37 col0\" >-0.044283</td>\n",
       "    </tr>\n",
       "    <tr>\n",
       "      <th id=\"T_9e422_level0_row38\" class=\"row_heading level0 row38\" >brand_nissan</th>\n",
       "      <td id=\"T_9e422_row38_col0\" class=\"data row38 col0\" >-0.062918</td>\n",
       "    </tr>\n",
       "    <tr>\n",
       "      <th id=\"T_9e422_level0_row39\" class=\"row_heading level0 row39\" >brand_opel</th>\n",
       "      <td id=\"T_9e422_row39_col0\" class=\"data row39 col0\" >-0.064845</td>\n",
       "    </tr>\n",
       "    <tr>\n",
       "      <th id=\"T_9e422_level0_row40\" class=\"row_heading level0 row40\" >fuelType_gas</th>\n",
       "      <td id=\"T_9e422_row40_col0\" class=\"data row40 col0\" >-0.095841</td>\n",
       "    </tr>\n",
       "    <tr>\n",
       "      <th id=\"T_9e422_level0_row41\" class=\"row_heading level0 row41\" >vehicleType_coupe</th>\n",
       "      <td id=\"T_9e422_row41_col0\" class=\"data row41 col0\" >-0.135237</td>\n",
       "    </tr>\n",
       "    <tr>\n",
       "      <th id=\"T_9e422_level0_row42\" class=\"row_heading level0 row42\" >kilometer</th>\n",
       "      <td id=\"T_9e422_row42_col0\" class=\"data row42 col0\" >-0.136238</td>\n",
       "    </tr>\n",
       "    <tr>\n",
       "      <th id=\"T_9e422_level0_row43\" class=\"row_heading level0 row43\" >fuelType_benzin</th>\n",
       "      <td id=\"T_9e422_row43_col0\" class=\"data row43 col0\" >-0.154033</td>\n",
       "    </tr>\n",
       "    <tr>\n",
       "      <th id=\"T_9e422_level0_row44\" class=\"row_heading level0 row44\" >brand_peugeot</th>\n",
       "      <td id=\"T_9e422_row44_col0\" class=\"data row44 col0\" >-0.159628</td>\n",
       "    </tr>\n",
       "    <tr>\n",
       "      <th id=\"T_9e422_level0_row45\" class=\"row_heading level0 row45\" >brand_ford</th>\n",
       "      <td id=\"T_9e422_row45_col0\" class=\"data row45 col0\" >-0.182456</td>\n",
       "    </tr>\n",
       "    <tr>\n",
       "      <th id=\"T_9e422_level0_row46\" class=\"row_heading level0 row46\" >brand_alfa_romeo</th>\n",
       "      <td id=\"T_9e422_row46_col0\" class=\"data row46 col0\" >-0.195752</td>\n",
       "    </tr>\n",
       "    <tr>\n",
       "      <th id=\"T_9e422_level0_row47\" class=\"row_heading level0 row47\" >brand_mitsubishi</th>\n",
       "      <td id=\"T_9e422_row47_col0\" class=\"data row47 col0\" >-0.196423</td>\n",
       "    </tr>\n",
       "    <tr>\n",
       "      <th id=\"T_9e422_level0_row48\" class=\"row_heading level0 row48\" >brand_fiat</th>\n",
       "      <td id=\"T_9e422_row48_col0\" class=\"data row48 col0\" >-0.199633</td>\n",
       "    </tr>\n",
       "    <tr>\n",
       "      <th id=\"T_9e422_level0_row49\" class=\"row_heading level0 row49\" >brand_citroen</th>\n",
       "      <td id=\"T_9e422_row49_col0\" class=\"data row49 col0\" >-0.202719</td>\n",
       "    </tr>\n",
       "    <tr>\n",
       "      <th id=\"T_9e422_level0_row50\" class=\"row_heading level0 row50\" >vehicleType_limousine</th>\n",
       "      <td id=\"T_9e422_row50_col0\" class=\"data row50 col0\" >-0.218038</td>\n",
       "    </tr>\n",
       "    <tr>\n",
       "      <th id=\"T_9e422_level0_row51\" class=\"row_heading level0 row51\" >brand_renault</th>\n",
       "      <td id=\"T_9e422_row51_col0\" class=\"data row51 col0\" >-0.219015</td>\n",
       "    </tr>\n",
       "    <tr>\n",
       "      <th id=\"T_9e422_level0_row52\" class=\"row_heading level0 row52\" >brand_chrysler</th>\n",
       "      <td id=\"T_9e422_row52_col0\" class=\"data row52 col0\" >-0.229454</td>\n",
       "    </tr>\n",
       "    <tr>\n",
       "      <th id=\"T_9e422_level0_row53\" class=\"row_heading level0 row53\" >brand_hyundai</th>\n",
       "      <td id=\"T_9e422_row53_col0\" class=\"data row53 col0\" >-0.242191</td>\n",
       "    </tr>\n",
       "    <tr>\n",
       "      <th id=\"T_9e422_level0_row54\" class=\"row_heading level0 row54\" >brand_rover</th>\n",
       "      <td id=\"T_9e422_row54_col0\" class=\"data row54 col0\" >-0.276754</td>\n",
       "    </tr>\n",
       "    <tr>\n",
       "      <th id=\"T_9e422_level0_row55\" class=\"row_heading level0 row55\" >brand_lancia</th>\n",
       "      <td id=\"T_9e422_row55_col0\" class=\"data row55 col0\" >-0.280925</td>\n",
       "    </tr>\n",
       "    <tr>\n",
       "      <th id=\"T_9e422_level0_row56\" class=\"row_heading level0 row56\" >brand_daihatsu</th>\n",
       "      <td id=\"T_9e422_row56_col0\" class=\"data row56 col0\" >-0.283398</td>\n",
       "    </tr>\n",
       "    <tr>\n",
       "      <th id=\"T_9e422_level0_row57\" class=\"row_heading level0 row57\" >vehicleType_kleinwagen</th>\n",
       "      <td id=\"T_9e422_row57_col0\" class=\"data row57 col0\" >-0.296466</td>\n",
       "    </tr>\n",
       "    <tr>\n",
       "      <th id=\"T_9e422_level0_row58\" class=\"row_heading level0 row58\" >vehicleType_kombi</th>\n",
       "      <td id=\"T_9e422_row58_col0\" class=\"data row58 col0\" >-0.308836</td>\n",
       "    </tr>\n",
       "    <tr>\n",
       "      <th id=\"T_9e422_level0_row59\" class=\"row_heading level0 row59\" >brand_kia</th>\n",
       "      <td id=\"T_9e422_row59_col0\" class=\"data row59 col0\" >-0.309197</td>\n",
       "    </tr>\n",
       "    <tr>\n",
       "      <th id=\"T_9e422_level0_row60\" class=\"row_heading level0 row60\" >brand_chevrolet</th>\n",
       "      <td id=\"T_9e422_row60_col0\" class=\"data row60 col0\" >-0.337368</td>\n",
       "    </tr>\n",
       "    <tr>\n",
       "      <th id=\"T_9e422_level0_row61\" class=\"row_heading level0 row61\" >brand_dacia</th>\n",
       "      <td id=\"T_9e422_row61_col0\" class=\"data row61 col0\" >-0.349019</td>\n",
       "    </tr>\n",
       "    <tr>\n",
       "      <th id=\"T_9e422_level0_row62\" class=\"row_heading level0 row62\" >brand_ssangyong</th>\n",
       "      <td id=\"T_9e422_row62_col0\" class=\"data row62 col0\" >-0.448583</td>\n",
       "    </tr>\n",
       "    <tr>\n",
       "      <th id=\"T_9e422_level0_row63\" class=\"row_heading level0 row63\" >brand_daewoo</th>\n",
       "      <td id=\"T_9e422_row63_col0\" class=\"data row63 col0\" >-0.499837</td>\n",
       "    </tr>\n",
       "    <tr>\n",
       "      <th id=\"T_9e422_level0_row64\" class=\"row_heading level0 row64\" >brand_lada</th>\n",
       "      <td id=\"T_9e422_row64_col0\" class=\"data row64 col0\" >-0.715188</td>\n",
       "    </tr>\n",
       "  </tbody>\n",
       "</table>\n"
      ],
      "text/plain": [
       "<pandas.io.formats.style.Styler at 0x1b56551eeb0>"
      ]
     },
     "execution_count": 22,
     "metadata": {},
     "output_type": "execute_result"
    }
   ],
   "source": [
    "pd.DataFrame({'lr': pickle.load(open('LinearRegression_it1_imp.pkl', 'rb')).coef_, \n",
    "             },\n",
    "            index = X_mat_imp.columns).sort_values(by='lr', ascending=False).style.background_gradient(cmap='Reds')"
   ]
  },
  {
   "cell_type": "markdown",
   "id": "1f80476b",
   "metadata": {},
   "source": [
    "Sin duda una de las principales ventajas del modelo de regresión es su sencillez e interpretabilidad. Aquí observamos como influyen las distintas variables independientes en el vector objetivo tanto en magnitud como en signo\n",
    "\n",
    "- Las variables cuya influencia se asociada a un mayor incremento en el precio del vehículo son `yearOfRegistration`, `brand_mini`, `brand_land_rover`, `brand_audi`, `brand_bmw`.\n",
    "\n",
    "- Las variables cuya influencia se asociada a un mayor descenso en el precio del vehículo son `brand_lada`, `brand_daewoo`, `brand_ssangyong`, `brand_dacia`, `brand_chevrolet`.\n",
    "\n",
    "- Las variables cuya influencia es menor son las correspondientes a las zonas postales, `brand_isuzu`, `brand_saab`, `brand_iveco`."
   ]
  },
  {
   "cell_type": "markdown",
   "id": "1eaae9a0",
   "metadata": {},
   "source": [
    "### Importancia de los atributos en los modelos basados en árboles de decisión"
   ]
  },
  {
   "cell_type": "markdown",
   "id": "81af0bfb",
   "metadata": {},
   "source": [
    "#### DecisionTreeRegressor"
   ]
  },
  {
   "cell_type": "code",
   "execution_count": 23,
   "id": "63d45a2c",
   "metadata": {},
   "outputs": [
    {
     "name": "stdout",
     "output_type": "stream",
     "text": [
      "Importancia de los atributos en el modelo DecisionTreeRegressor entrenado con datos con imputación de valores perdidos\n"
     ]
    },
    {
     "data": {
      "image/png": "[encoded data removed]",
      "text/plain": [
       "<Figure size 576x1152 with 1 Axes>"
      ]
     },
     "metadata": {
      "needs_background": "light"
     },
     "output_type": "display_data"
    }
   ],
   "source": [
    "print('Importancia de los atributos en el modelo DecisionTreeRegressor entrenado con datos con imputación de valores perdidos')\n",
    "plt.figure(figsize=(8,16))\n",
    "aux.plot_importance(pickle.load(open('DecisionTreeRegressor_it1_imp.pkl', 'rb')), X_mat_imp.columns)"
   ]
  },
  {
   "cell_type": "markdown",
   "id": "09812d28",
   "metadata": {},
   "source": [
    "- Observamos como el modelo DecisionTreeRegresor consideró como característica más importante `yearOfRegistration` seguidas por `powerPS` y `kilometer`. \n",
    "- La gran mayoría de marcas apenas fueron consideradas en la reducción del error a la hora de particionar nodos"
   ]
  },
  {
   "cell_type": "markdown",
   "id": "f39122da",
   "metadata": {},
   "source": [
    "#### Random Forest Regressor"
   ]
  },
  {
   "cell_type": "code",
   "execution_count": 24,
   "id": "858bbd51",
   "metadata": {},
   "outputs": [
    {
     "name": "stdout",
     "output_type": "stream",
     "text": [
      "Importancia de los atributos en el modelo RandomForestRegressor entrenado con datos con imputación de valores perdidos\n"
     ]
    },
    {
     "data": {
      "image/png": "[encoded data removed]",
      "text/plain": [
       "<Figure size 576x1152 with 1 Axes>"
      ]
     },
     "metadata": {
      "needs_background": "light"
     },
     "output_type": "display_data"
    }
   ],
   "source": [
    "print('Importancia de los atributos en el modelo RandomForestRegressor entrenado con datos con imputación de valores perdidos')\n",
    "plt.figure(figsize=(8,16))\n",
    "aux.plot_importance(pickle.load(open('RandomForestRegressor_it1_imp.pkl', 'rb')), X_mat_imp.columns)"
   ]
  },
  {
   "cell_type": "markdown",
   "id": "795af854",
   "metadata": {},
   "source": [
    "- Llama la atención que no se haya suavizado la importancia de las diferentes variables respecto al modelo de árbol de decisión, teniendo en cuenta que RandomForest entrena por defecto 100 árboles diferentes haciendo la primera partición en cada árbol de decisión individual  mediante el método de bootstrap aggregating (bagging), esto es, utilizando subconjuntos diferentes de datos."
   ]
  },
  {
   "cell_type": "markdown",
   "id": "a6710f83",
   "metadata": {},
   "source": [
    "#### XGBoost Regressor"
   ]
  },
  {
   "cell_type": "code",
   "execution_count": 25,
   "id": "3e94858d",
   "metadata": {},
   "outputs": [
    {
     "name": "stdout",
     "output_type": "stream",
     "text": [
      "Importancia de los atributos en el modelo GradientBoostingRegressor entrenado con datos con imputación de valores perdidos\n"
     ]
    },
    {
     "data": {
      "image/png": "[encoded data removed]",
      "text/plain": [
       "<Figure size 576x1152 with 1 Axes>"
      ]
     },
     "metadata": {
      "needs_background": "light"
     },
     "output_type": "display_data"
    }
   ],
   "source": [
    "print('Importancia de los atributos en el modelo XGBRegressor entrenado con datos con imputación de valores perdidos')\n",
    "plt.figure(figsize=(8,16))\n",
    "aux.plot_importance(pickle.load(open('XGBRegressor_it1_imp.pkl', 'rb')), X_mat_imp.columns)"
   ]
  },
  {
   "cell_type": "markdown",
   "id": "d5abd0ed",
   "metadata": {},
   "source": [
    "- En este caso encontramos un reparto más equitativo de las importancias.\n",
    "- Posiblemente esto se deba a que XGBoost puede repartir más equitativamente las importancias por su naturaleza secuencial y enfoque basado en gradientes y optimización. Estas características le permiten adaptarse mejor a la relevancia de las características en función de la complejidad y los patrones del conjunto de datos, lo que puede resultar en una distribución más balanceada de las importancias en comparación con Random Forest."
   ]
  },
  {
   "cell_type": "markdown",
   "id": "dff1d845",
   "metadata": {},
   "source": [
    "## Elección del mejor modelo y serialización\n",
    "- Por un lado, tenemos la sencillez de interpretación, rápida implementación y capacaidad de generalización del modelo de regresión lineal. La relación lineal de las variables continuas hacen que este modelo se adecúe correctamente al problema.\n",
    "- Por otro lado, tenemos los modelos basados en árboles de decisión de los cuales destacamos XGBRegressor. A pesar de tener métricas muy similares a Random Forest su reparto más equilibrado de las importancias puede ser más positivo a la hora de capturar el fenómeno.\n",
    "- Entre estos dos, pensamos que el modelo de Regresión Lineal, a pesar de tener unas métricas ligeramente inferiores (MAPE de 0.36 vs 0.31) puede adaptarse mejor al problema por su naturaleza lineal y conseguir una mejor generalización al enfrentar datos diferentes a los que utilizamos para entrenar. También permite hacer predicciones con cifras de kilometraje superiores a 150.000 kilómetros no vistas durante el entrenamiento al aplicar los coeficientes, mientras que XGBRegressor es incapaz de ello.\n",
    "\n",
    "\n",
    "Seleccionamos el mejor modelo junto con su instancia de StandardScaler y los nombres de las columnas codificadas y lo exportamos para la puesta en producción\n"
   ]
  },
  {
   "cell_type": "code",
   "execution_count": null,
   "id": "6c651aa2",
   "metadata": {},
   "outputs": [],
   "source": [
    "# Ya exportado\n",
    "best_model = 'LinearRegression_it1_imp.pkl'"
   ]
  },
  {
   "cell_type": "code",
   "execution_count": null,
   "id": "45ac05b2",
   "metadata": {},
   "outputs": [],
   "source": [
    "# Serializamos el preprocesamiento correspondiente al modelo ganador\n",
    "pickle.dump(scaler_imp, open(\"scaler_imp.pkl\", 'wb'))"
   ]
  },
  {
   "cell_type": "code",
   "execution_count": null,
   "id": "fb0dd779",
   "metadata": {},
   "outputs": [],
   "source": [
    "# Serializamos la data codificada (binary encoding)\n",
    "X_test_std_imp.drop(index=X_test_std_imp.index).to_csv('columns_encoded.csv', index=False)"
   ]
  }
 ],
 "metadata": {
  "kernelspec": {
   "display_name": "Python 3 (ipykernel)",
   "language": "python",
   "name": "python3"
  },
  "language_info": {
   "codemirror_mode": {
    "name": "ipython",
    "version": 3
   },
   "file_extension": ".py",
   "mimetype": "text/x-python",
   "name": "python",
   "nbconvert_exporter": "python",
   "pygments_lexer": "ipython3",
   "version": "3.9.12"
  }
 },
 "nbformat": 4,
 "nbformat_minor": 5
}
